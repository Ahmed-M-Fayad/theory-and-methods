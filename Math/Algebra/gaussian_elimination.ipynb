{
 "cells": [
  {
   "cell_type": "markdown",
   "id": "143b7c79",
   "metadata": {},
   "source": [
    "# Gaussian Elimination\n",
    "\n",
    "Gaussian Elimination is a method used to solve systems of linear equations.  \n",
    "It transforms a system into an equivalent one in upper triangular form, making it easier to solve by back substitution.\n",
    "\n",
    "---"
   ]
  },
  {
   "cell_type": "markdown",
   "id": "3cf2090d",
   "metadata": {},
   "source": [
    "## Steps of Gaussian Elimination\n",
    "\n",
    "1. **Forward Elimination**  \n",
    "   - Use elementary row operations to make all entries below the leading 1 (pivot) zero.\n",
    "   \n",
    "2. **Back Substitution**  \n",
    "   - Once the matrix is in upper triangular form, solve for the variables starting from the last row upwards.\n"
   ]
  },
  {
   "cell_type": "markdown",
   "id": "5d8bf646",
   "metadata": {},
   "source": [
    "> ⚠️ **Note:**  \n",
    "> The current implementation of Gaussian Elimination assumes that the matrix A is square (i.e., the number of equations equals the number of unknowns).  \n",
    "> \n",
    "> Non-square systems (overdetermined or underdetermined) are **not handled** in this code and may require modified approaches such as least squares methods or additional constraints.\n"
   ]
  },
  {
   "cell_type": "markdown",
   "id": "6bd7f84f",
   "metadata": {},
   "source": [
    "---"
   ]
  },
  {
   "cell_type": "code",
   "execution_count": 2,
   "id": "eed92bc8",
   "metadata": {},
   "outputs": [],
   "source": [
    "def gaussian_elimination(A, b):\n",
    "    \"\"\"\n",
    "    Solves the linear system Ax = b using Gaussian Elimination.\n",
    "    \n",
    "    Args:\n",
    "        A: Coefficient matrix (NumPy array)\n",
    "        b: Right-hand side vector (NumPy array)\n",
    "    \n",
    "    Returns:\n",
    "        x: Solution vector\n",
    "    \"\"\"\n",
    "    \n",
    "    # Ensure the input matrix A is square and A and b are compatible\n",
    "    assert A.shape[0] == A.shape[1], \"Matrix A must be square.\"\n",
    "    assert A.shape[0] == b.shape[0], \"Matrix A and vector b must have compatible dimensions.\"\n",
    "    \n",
    "    # Convert A and b to float to avoid issues with integer division\n",
    "    A = A.astype(float)\n",
    "    b = b.astype(float)\n",
    "    n = len(b)\n",
    "\n",
    "    # Forward Elimination\n",
    "    for i in range(n):\n",
    "        # Make the diagonal element 1\n",
    "        if A[i, i] == 0:\n",
    "            raise ValueError(\"Zero pivot encountered!\")\n",
    "        for j in range(i+1, n):\n",
    "            ratio = A[j, i] / A[i, i]\n",
    "            A[j, :] = A[j, :] - ratio * A[i, :]\n",
    "            b[j] = b[j] - ratio * b[i]\n",
    "\n",
    "    # Back Substitution\n",
    "    x = np.zeros(n)\n",
    "    for i in range(n-1, -1, -1):\n",
    "        sum_ax = np.dot(A[i, i+1:], x[i+1:])\n",
    "        x[i] = (b[i] - sum_ax) / A[i, i]\n",
    "\n",
    "    return x"
   ]
  },
  {
   "cell_type": "markdown",
   "id": "c4b318e8",
   "metadata": {},
   "source": [
    "# Test Case"
   ]
  },
  {
   "cell_type": "code",
   "execution_count": 13,
   "id": "2563904c",
   "metadata": {},
   "outputs": [
    {
     "name": "stdout",
     "output_type": "stream",
     "text": [
      "Solution: [ 2.  3. -1.]\n"
     ]
    }
   ],
   "source": [
    "import numpy as np\n",
    "\n",
    "A = np.array([\n",
    "    [2, 1, -1],\n",
    "    [-3, -1, 2],\n",
    "    [-2, 1, 2]\n",
    "], dtype=float)\n",
    "\n",
    "b = np.array([8, -11, -3], dtype=float)\n",
    "\n",
    "x = gaussian_elimination(A, b)\n",
    "print(\"Solution:\", x)"
   ]
  }
 ],
 "metadata": {
  "kernelspec": {
   "display_name": "Python 3",
   "language": "python",
   "name": "python3"
  },
  "language_info": {
   "codemirror_mode": {
    "name": "ipython",
    "version": 3
   },
   "file_extension": ".py",
   "mimetype": "text/x-python",
   "name": "python",
   "nbconvert_exporter": "python",
   "pygments_lexer": "ipython3",
   "version": "3.12.1"
  }
 },
 "nbformat": 4,
 "nbformat_minor": 5
}
